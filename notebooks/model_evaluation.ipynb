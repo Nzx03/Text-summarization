{
 "cells": [
  {
   "cell_type": "code",
   "execution_count": 1,
   "id": "013b45b1",
   "metadata": {},
   "outputs": [],
   "source": [
    "import os"
   ]
  },
  {
   "cell_type": "code",
   "execution_count": null,
   "id": "078a5865",
   "metadata": {},
   "outputs": [],
   "source": [
    "%pwd"
   ]
  },
  {
   "cell_type": "code",
   "execution_count": 4,
   "id": "13036c9e",
   "metadata": {},
   "outputs": [],
   "source": [
    "os.chdir(\"../\")"
   ]
  },
  {
   "cell_type": "code",
   "execution_count": null,
   "id": "25fe81f1",
   "metadata": {},
   "outputs": [],
   "source": [
    "%pwd"
   ]
  },
  {
   "cell_type": "code",
   "execution_count": 11,
   "id": "fdc9341b",
   "metadata": {},
   "outputs": [],
   "source": [
    "from dataclasses import dataclass\n",
    "from pathlib import Path\n",
    "\n",
    "@dataclass(frozen=True)\n",
    "class ModelEvaluationConfig:\n",
    "    root_dir: Path\n",
    "    data_path: Path\n",
    "    model_path: Path\n",
    "    tokenizer_path: Path\n",
    "    metric_file_name: Path\n"
   ]
  },
  {
   "cell_type": "code",
   "execution_count": 12,
   "id": "52957218",
   "metadata": {},
   "outputs": [],
   "source": [
    "from src.constants import *\n",
    "from src.utils.modular import read_yaml_file,create_dir\n"
   ]
  },
  {
   "cell_type": "code",
   "execution_count": 13,
   "id": "3ae1365c",
   "metadata": {},
   "outputs": [],
   "source": [
    "class ConfigurationManager:\n",
    "    def __init__(self,\n",
    "                 config_filepath=CONFIG_FILE_PATH,\n",
    "                 params_filepath=PARAMS_FILE_PATH):\n",
    "        \n",
    "        self.config=read_yaml_file(config_filepath)\n",
    "        self.params=read_yaml_file(params_filepath)\n",
    "\n",
    "        create_dir([self.config.artifacts_root])\n",
    "\n",
    "    def get_model_evaluation_config(self)-> ModelEvaluationConfig:\n",
    "        config=self.config.model_evaluation\n",
    "       \n",
    "\n",
    "        create_dir([config.root_dir])\n",
    "\n",
    "        model_evaluation_config=ModelEvaluationConfig(\n",
    "            root_dir=config.root_dir,\n",
    "            data_path= config.data_path,\n",
    "            model_path=config.model_path,\n",
    "            tokenizer_path=config.tokenizer_path,\n",
    "            metric_file_name=config.metric_file_name\n",
    "\n",
    "        )\n",
    "        return model_evaluation_config\n"
   ]
  },
  {
   "cell_type": "code",
   "execution_count": 14,
   "id": "9a8fb0e2",
   "metadata": {},
   "outputs": [
    {
     "name": "stderr",
     "output_type": "stream",
     "text": [
      "c:\\Users\\Nazneen\\ML project\\test\\Text-summarization\\venv\\lib\\site-packages\\tqdm\\auto.py:21: TqdmWarning: IProgress not found. Please update jupyter and ipywidgets. See https://ipywidgets.readthedocs.io/en/stable/user_install.html\n",
      "  from .autonotebook import tqdm as notebook_tqdm\n"
     ]
    }
   ],
   "source": [
    "from transformers import AutoModelForSeq2SeqLM, AutoTokenizer\n",
    "from datasets import load_dataset, load_from_disk\n",
    "import evaluate\n",
    "import torch\n",
    "import pandas as pd\n",
    "from tqdm import tqdm"
   ]
  },
  {
   "cell_type": "code",
   "execution_count": 15,
   "id": "bf5009d6",
   "metadata": {},
   "outputs": [],
   "source": [
    "class ModelEvaluation:\n",
    "    def __init__(self,config: ModelEvaluationConfig):\n",
    "        self.config=config \n",
    "\n",
    "    def generate_batch_size_chunks(self,list_of_elements,batch_size):\n",
    "        for i in range(0,len(list_of_elements),batch_size):\n",
    "           yield list_of_elements[i:i+batch_size] \n",
    "\n",
    "\n",
    "    def calculate_metric_on_test_ds(self,dataset,metric,model,tokenizer,\n",
    "                                batch_size=16,device=\"cuda\" if torch.cuda.is_available() else \"cpu\",\n",
    "                                column_text=\"article\",\n",
    "                                column_summary=\"highlights\",):\n",
    "\n",
    "        article_batches=list(self.generate_batch_size_chunks(dataset[column_text],batch_size))\n",
    "        target_batches=list(self.generate_batch_size_chunks(dataset[column_summary],batch_size))\n",
    "\n",
    "        for article_batch,target_batch in tqdm(\n",
    "            zip(article_batches,target_batches),total=len(article_batches)):\n",
    "\n",
    "            inputs=tokenizer(article_batch,max_length=1024,truncation=True,\n",
    "                       padding=\"max_length\",return_tensors=\"pt\")\n",
    "\n",
    "            summaries=model.generate(input_ids=inputs[\"input_ids\"].to(device),\n",
    "                               attention_mask=inputs[\"attention_mask\"].to(device),\n",
    "                               length_penalty=0.8,num_beams=8,max_length=128)\n",
    "\n",
    "            decoded_summaries=[tokenizer.decode(s,skip_special_tokens=True,\\\n",
    "                                          clean_up_tokenization_spaces=True)\n",
    "                for s in summaries]\n",
    "\n",
    "            decoded_summaries=[d.replace(\"\",\" \")for d in decoded_summaries]\n",
    "\n",
    "\n",
    "            metric.add_batch(predictions=decoded_summaries, references=target_batch)\n",
    "\n",
    "        score=metric.compute()\n",
    "\n",
    "        return score   \n",
    "    \n",
    "    def evaluate(self):\n",
    "        device=\"cuda\" if torch.cuda.is_available() else \"cpu\"\n",
    "        tokenizer=AutoTokenizer.from_pretrained(self.config.tokenizer_path)\n",
    "        model_pegasus=AutoModelForSeq2SeqLM.from_pretrained(self.config.model_path).to(device)\n",
    "\n",
    "        dataset_samsum_pt=load_from_disk(self.config.data_path)\n",
    "\n",
    "        rouge_names=[\"rouge1\", \"rouge2\",\"rougeL\",\"rougeLsum\"]\n",
    "        rouge_metric = evaluate.load(\"rouge\")\n",
    "\n",
    "        score=self.calculate_metric_on_test_ds(\n",
    "        dataset_samsum_pt['test'][0:10],rouge_metric, model_pegasus,tokenizer,batch_size=2,column_text='dialogue',column_summary='summary'\n",
    "\n",
    "        )\n",
    "        rouge_dict = {rn: score[rn] for rn in rouge_names}\n",
    "\n",
    "        df = pd.DataFrame(rouge_dict, index = ['pegasus'] )\n",
    "        df.to_csv(self.config.metric_file_name, index=False)\n",
    "\n",
    "\n"
   ]
  },
  {
   "cell_type": "code",
   "execution_count": 16,
   "id": "585edcbb",
   "metadata": {},
   "outputs": [],
   "source": [
    "from src.exception import CustomException\n",
    "import sys"
   ]
  },
  {
   "cell_type": "code",
   "execution_count": 17,
   "id": "86d313d8",
   "metadata": {},
   "outputs": [
    {
     "name": "stdout",
     "output_type": "stream",
     "text": [
      "Requirement already satisfied: transformers in c:\\users\\nazneen\\ml project\\test\\text-summarization\\venv\\lib\\site-packages (4.56.2)\n",
      "Requirement already satisfied: datasets in c:\\users\\nazneen\\ml project\\test\\text-summarization\\venv\\lib\\site-packages (4.1.1)\n",
      "Requirement already satisfied: evaluate in c:\\users\\nazneen\\ml project\\test\\text-summarization\\venv\\lib\\site-packages (0.4.6)\n",
      "Requirement already satisfied: rouge_score in c:\\users\\nazneen\\ml project\\test\\text-summarization\\venv\\lib\\site-packages (0.1.2)\n",
      "Requirement already satisfied: filelock in c:\\users\\nazneen\\ml project\\test\\text-summarization\\venv\\lib\\site-packages (from transformers) (3.19.1)\n",
      "Requirement already satisfied: huggingface-hub<1.0,>=0.34.0 in c:\\users\\nazneen\\ml project\\test\\text-summarization\\venv\\lib\\site-packages (from transformers) (0.35.0)\n",
      "Requirement already satisfied: numpy>=1.17 in c:\\users\\nazneen\\ml project\\test\\text-summarization\\venv\\lib\\site-packages (from transformers) (2.0.2)\n",
      "Requirement already satisfied: packaging>=20.0 in c:\\users\\nazneen\\ml project\\test\\text-summarization\\venv\\lib\\site-packages (from transformers) (25.0)\n",
      "Requirement already satisfied: pyyaml>=5.1 in c:\\users\\nazneen\\ml project\\test\\text-summarization\\venv\\lib\\site-packages (from transformers) (6.0.2)\n",
      "Requirement already satisfied: regex!=2019.12.17 in c:\\users\\nazneen\\ml project\\test\\text-summarization\\venv\\lib\\site-packages (from transformers) (2025.9.1)\n",
      "Requirement already satisfied: requests in c:\\users\\nazneen\\ml project\\test\\text-summarization\\venv\\lib\\site-packages (from transformers) (2.32.5)\n",
      "Requirement already satisfied: tokenizers<=0.23.0,>=0.22.0 in c:\\users\\nazneen\\ml project\\test\\text-summarization\\venv\\lib\\site-packages (from transformers) (0.22.0)\n",
      "Requirement already satisfied: safetensors>=0.4.3 in c:\\users\\nazneen\\ml project\\test\\text-summarization\\venv\\lib\\site-packages (from transformers) (0.6.2)\n",
      "Requirement already satisfied: tqdm>=4.27 in c:\\users\\nazneen\\ml project\\test\\text-summarization\\venv\\lib\\site-packages (from transformers) (4.67.1)\n",
      "Requirement already satisfied: fsspec>=2023.5.0 in c:\\users\\nazneen\\ml project\\test\\text-summarization\\venv\\lib\\site-packages (from huggingface-hub<1.0,>=0.34.0->transformers) (2025.9.0)\n",
      "Requirement already satisfied: typing-extensions>=3.7.4.3 in c:\\users\\nazneen\\ml project\\test\\text-summarization\\venv\\lib\\site-packages (from huggingface-hub<1.0,>=0.34.0->transformers) (4.15.0)\n",
      "Requirement already satisfied: pyarrow>=21.0.0 in c:\\users\\nazneen\\ml project\\test\\text-summarization\\venv\\lib\\site-packages (from datasets) (21.0.0)\n",
      "Requirement already satisfied: dill<0.4.1,>=0.3.0 in c:\\users\\nazneen\\ml project\\test\\text-summarization\\venv\\lib\\site-packages (from datasets) (0.4.0)\n",
      "Requirement already satisfied: pandas in c:\\users\\nazneen\\ml project\\test\\text-summarization\\venv\\lib\\site-packages (from datasets) (2.3.2)\n",
      "Requirement already satisfied: xxhash in c:\\users\\nazneen\\ml project\\test\\text-summarization\\venv\\lib\\site-packages (from datasets) (3.5.0)\n",
      "Requirement already satisfied: multiprocess<0.70.17 in c:\\users\\nazneen\\ml project\\test\\text-summarization\\venv\\lib\\site-packages (from datasets) (0.70.16)\n",
      "Requirement already satisfied: aiohttp!=4.0.0a0,!=4.0.0a1 in c:\\users\\nazneen\\ml project\\test\\text-summarization\\venv\\lib\\site-packages (from fsspec[http]<=2025.9.0,>=2023.1.0->datasets) (3.12.15)\n",
      "Requirement already satisfied: absl-py in c:\\users\\nazneen\\ml project\\test\\text-summarization\\venv\\lib\\site-packages (from rouge_score) (2.3.1)\n",
      "Requirement already satisfied: nltk in c:\\users\\nazneen\\ml project\\test\\text-summarization\\venv\\lib\\site-packages (from rouge_score) (3.9.1)\n",
      "Requirement already satisfied: six>=1.14.0 in c:\\users\\nazneen\\ml project\\test\\text-summarization\\venv\\lib\\site-packages (from rouge_score) (1.17.0)\n",
      "Requirement already satisfied: aiohappyeyeballs>=2.5.0 in c:\\users\\nazneen\\ml project\\test\\text-summarization\\venv\\lib\\site-packages (from aiohttp!=4.0.0a0,!=4.0.0a1->fsspec[http]<=2025.9.0,>=2023.1.0->datasets) (2.6.1)\n",
      "Requirement already satisfied: aiosignal>=1.4.0 in c:\\users\\nazneen\\ml project\\test\\text-summarization\\venv\\lib\\site-packages (from aiohttp!=4.0.0a0,!=4.0.0a1->fsspec[http]<=2025.9.0,>=2023.1.0->datasets) (1.4.0)\n",
      "Requirement already satisfied: async-timeout<6.0,>=4.0 in c:\\users\\nazneen\\ml project\\test\\text-summarization\\venv\\lib\\site-packages (from aiohttp!=4.0.0a0,!=4.0.0a1->fsspec[http]<=2025.9.0,>=2023.1.0->datasets) (5.0.1)\n",
      "Requirement already satisfied: attrs>=17.3.0 in c:\\users\\nazneen\\ml project\\test\\text-summarization\\venv\\lib\\site-packages (from aiohttp!=4.0.0a0,!=4.0.0a1->fsspec[http]<=2025.9.0,>=2023.1.0->datasets) (25.3.0)\n",
      "Requirement already satisfied: frozenlist>=1.1.1 in c:\\users\\nazneen\\ml project\\test\\text-summarization\\venv\\lib\\site-packages (from aiohttp!=4.0.0a0,!=4.0.0a1->fsspec[http]<=2025.9.0,>=2023.1.0->datasets) (1.7.0)\n",
      "Requirement already satisfied: multidict<7.0,>=4.5 in c:\\users\\nazneen\\ml project\\test\\text-summarization\\venv\\lib\\site-packages (from aiohttp!=4.0.0a0,!=4.0.0a1->fsspec[http]<=2025.9.0,>=2023.1.0->datasets) (6.6.4)\n",
      "Requirement already satisfied: propcache>=0.2.0 in c:\\users\\nazneen\\ml project\\test\\text-summarization\\venv\\lib\\site-packages (from aiohttp!=4.0.0a0,!=4.0.0a1->fsspec[http]<=2025.9.0,>=2023.1.0->datasets) (0.3.2)\n",
      "Requirement already satisfied: yarl<2.0,>=1.17.0 in c:\\users\\nazneen\\ml project\\test\\text-summarization\\venv\\lib\\site-packages (from aiohttp!=4.0.0a0,!=4.0.0a1->fsspec[http]<=2025.9.0,>=2023.1.0->datasets) (1.20.1)\n",
      "Requirement already satisfied: idna>=2.0 in c:\\users\\nazneen\\ml project\\test\\text-summarization\\venv\\lib\\site-packages (from yarl<2.0,>=1.17.0->aiohttp!=4.0.0a0,!=4.0.0a1->fsspec[http]<=2025.9.0,>=2023.1.0->datasets) (3.10)\n",
      "Requirement already satisfied: charset_normalizer<4,>=2 in c:\\users\\nazneen\\ml project\\test\\text-summarization\\venv\\lib\\site-packages (from requests->transformers) (3.4.3)\n",
      "Requirement already satisfied: urllib3<3,>=1.21.1 in c:\\users\\nazneen\\ml project\\test\\text-summarization\\venv\\lib\\site-packages (from requests->transformers) (1.26.20)\n",
      "Requirement already satisfied: certifi>=2017.4.17 in c:\\users\\nazneen\\ml project\\test\\text-summarization\\venv\\lib\\site-packages (from requests->transformers) (2025.8.3)\n",
      "Requirement already satisfied: colorama in c:\\users\\nazneen\\ml project\\test\\text-summarization\\venv\\lib\\site-packages (from tqdm>=4.27->transformers) (0.4.6)\n",
      "Requirement already satisfied: click in c:\\users\\nazneen\\ml project\\test\\text-summarization\\venv\\lib\\site-packages (from nltk->rouge_score) (8.1.8)\n",
      "Requirement already satisfied: joblib in c:\\users\\nazneen\\ml project\\test\\text-summarization\\venv\\lib\\site-packages (from nltk->rouge_score) (1.5.2)\n",
      "Requirement already satisfied: python-dateutil>=2.8.2 in c:\\users\\nazneen\\ml project\\test\\text-summarization\\venv\\lib\\site-packages (from pandas->datasets) (2.9.0.post0)\n",
      "Requirement already satisfied: pytz>=2020.1 in c:\\users\\nazneen\\ml project\\test\\text-summarization\\venv\\lib\\site-packages (from pandas->datasets) (2025.2)\n",
      "Requirement already satisfied: tzdata>=2022.7 in c:\\users\\nazneen\\ml project\\test\\text-summarization\\venv\\lib\\site-packages (from pandas->datasets) (2025.2)\n",
      "Note: you may need to restart the kernel to use updated packages.\n"
     ]
    }
   ],
   "source": [
    "pip install --upgrade transformers datasets evaluate rouge_score\n"
   ]
  },
  {
   "cell_type": "code",
   "execution_count": 18,
   "id": "cd4afe1c",
   "metadata": {},
   "outputs": [
    {
     "name": "stderr",
     "output_type": "stream",
     "text": [
      "100%|██████████| 5/5 [1:11:43<00:00, 860.72s/it]\n"
     ]
    }
   ],
   "source": [
    "try:\n",
    "    config = ConfigurationManager()\n",
    "    model_evaluation_config = config.get_model_evaluation_config()\n",
    "    model_evaluation_config = ModelEvaluation(config=model_evaluation_config)\n",
    "    model_evaluation_config.evaluate()\n",
    "except Exception as e:\n",
    "    raise CustomException(e,sys)"
   ]
  },
  {
   "cell_type": "code",
   "execution_count": null,
   "id": "a3062268",
   "metadata": {},
   "outputs": [],
   "source": []
  },
  {
   "cell_type": "code",
   "execution_count": null,
   "id": "37f7b87e",
   "metadata": {},
   "outputs": [],
   "source": []
  },
  {
   "cell_type": "code",
   "execution_count": null,
   "id": "d1e78cc6",
   "metadata": {},
   "outputs": [],
   "source": []
  }
 ],
 "metadata": {
  "kernelspec": {
   "display_name": "Python 3",
   "language": "python",
   "name": "python3"
  },
  "language_info": {
   "codemirror_mode": {
    "name": "ipython",
    "version": 3
   },
   "file_extension": ".py",
   "mimetype": "text/x-python",
   "name": "python",
   "nbconvert_exporter": "python",
   "pygments_lexer": "ipython3",
   "version": "3.9.23"
  }
 },
 "nbformat": 4,
 "nbformat_minor": 5
}
